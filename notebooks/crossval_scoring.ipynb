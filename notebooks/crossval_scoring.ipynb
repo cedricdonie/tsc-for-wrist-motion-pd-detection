{
 "cells": [
  {
   "cell_type": "markdown",
   "metadata": {},
   "source": [
    "# Hyperparameter Tuning Analysis\n",
    "Author(s): Cedric Donié (cedricdonie@gmail.com)\n",
    "\n",
    "Analyzing the results of hyperparameter tuning experiments."
   ]
  },
  {
   "cell_type": "code",
   "execution_count": null,
   "metadata": {},
   "outputs": [],
   "source": [
    "%load_ext autoreload\n",
    "%autoreload 2"
   ]
  },
  {
   "cell_type": "code",
   "execution_count": null,
   "metadata": {},
   "outputs": [],
   "source": [
    "from cloudpathlib import AnyPath as Path\n",
    "import json\n",
    "from src.visualization.summarize_hyperparameter_tuning import parse_cv_run_filename\n",
    "import pandas as pd\n",
    "import matplotlib.pyplot as plt\n",
    "import numpy as np\n",
    "import seaborn as sns\n",
    "from scipy.stats import spearmanr, pearsonr"
   ]
  },
  {
   "cell_type": "code",
   "execution_count": null,
   "metadata": {},
   "outputs": [],
   "source": [
    "plt.style.use([\"science\", \"ieee\", \"../src/visualization/main.mplstyle\", \"vibrant\"])"
   ]
  },
  {
   "cell_type": "code",
   "execution_count": null,
   "metadata": {},
   "outputs": [],
   "source": [
    "def corrfunc(x, y, ax=None, **kws):\n",
    "    \"\"\"Plot the correlation coefficient in the top left hand corner of a plot.\"\"\"\n",
    "    r, p = spearmanr(x, y)\n",
    "    ax = ax or plt.gca()\n",
    "    ax.annotate(Rf'$\\rho = {r:.2f}$', xy=(.1, .9), xycoords=ax.transAxes)"
   ]
  },
  {
   "cell_type": "code",
   "execution_count": null,
   "metadata": {},
   "outputs": [],
   "source": [
    "LABELS = {\"depth\": \"Depth\", \"kernel_size\": \"Filter Length\", \"nb_filters\": \"Number of Filters\", \"window_length\": \"Window Length / s\"}"
   ]
  },
  {
   "cell_type": "code",
   "execution_count": null,
   "metadata": {
    "tags": [
     "parameters"
    ]
   },
   "outputs": [],
   "source": [
    "RESULTS_PATH = \"../models/inceptiontime/hyperparameter_tuning/tremor/GENEActiv_train-val/results.csv\"\n",
    "MEAN_RESULTS_PATH = \"../models/inceptiontime/hyperparameter_tuning/tremor/GENEActiv_train-val/meanresults.csv\"\n",
    "PHENOTYPE = \"tremor\""
   ]
  },
  {
   "cell_type": "code",
   "execution_count": null,
   "metadata": {},
   "outputs": [],
   "source": [
    "results = pd.read_csv(RESULTS_PATH)\n",
    "mean_results = pd.read_csv(MEAN_RESULTS_PATH)"
   ]
  },
  {
   "cell_type": "code",
   "execution_count": null,
   "metadata": {},
   "outputs": [],
   "source": [
    "FIGSAVEPATH = Path(\"../reports/figures/inceptiontime/hyperparameter_tuning/\") / PHENOTYPE /\"GENEActiv_train-val/\"\n",
    "FIGSAVEPATH.mkdir(exist_ok=True, parents=True)"
   ]
  },
  {
   "cell_type": "code",
   "execution_count": null,
   "metadata": {},
   "outputs": [],
   "source": [
    "from matplotlib import patheffects\n",
    "\n",
    "fig, axs = plt.subplots(nrows=2, ncols=2, sharex=False, sharey=\"row\")\n",
    "if PHENOTYPE == \"tremor\":\n",
    "    for x, ax in zip((\"depth\", \"kernel_size\", \"nb_filters\", \"window_length\"), axs.flatten()):\n",
    "        sns.scatterplot(data=results.dropna(), x=x, y=\"test_mAP\", ax=ax, s=20)\n",
    "        sns.regplot(data=mean_results.dropna(), x=x, y=\"test_mAP\", ax=ax, color=\"C1\", scatter_kws={\"s\": 20})\n",
    "        rho, p = spearmanr(results.dropna()[x], results.dropna()[\"test_mAP\"])\n",
    "        text = ax.text(0.9, 0.1, rf\"$r_s = {rho:.2f}$\", transform=ax.transAxes, verticalalignment=\"bottom\", horizontalalignment=\"right\", bbox=dict(facecolor='white', alpha=0.5, edgecolor=\"none\", pad=3))\n",
    "        ax.set_xlabel(LABELS[x])\n",
    "        ax.set_ylabel(\"mAP\")\n",
    "else:\n",
    "    for x, ax in zip((\"depth\", \"kernel_size\", \"nb_filters\", \"window_length\"), axs.flatten()):\n",
    "        sns.scatterplot(data=results.dropna(), x=x, y=\"test_average_precision\", ax=ax, s=20)\n",
    "        sns.regplot(data=mean_results.dropna(), x=x, y=\"test_average_precision\", ax=ax, color=\"C1\", scatter_kws={\"s\": 20})\n",
    "        rho, p = spearmanr(results.dropna()[x], results.dropna()[\"test_average_precision\"])\n",
    "        text = ax.text(0.9, 0.1, rf\"$r_s = {rho:.2f}$\", transform=ax.transAxes, verticalalignment=\"bottom\", horizontalalignment=\"right\", bbox=dict(facecolor='white', alpha=0.5, edgecolor=\"none\", pad=3))\n",
    "        ax.set_xlabel(LABELS[x])\n",
    "        ax.set_ylabel(\"AP\")\n",
    "fig.legend(labels=[\"_nolegend_\", \"all cross-validation folds\", \"cross-validation mean\"], loc='lower center', ncol=2, bbox_to_anchor=(0.5, -0.1))\n",
    "fig.savefig(FIGSAVEPATH / (\"mAPoverall.pgf\"))"
   ]
  },
  {
   "cell_type": "code",
   "execution_count": null,
   "metadata": {},
   "outputs": [],
   "source": [
    "fig, axs = plt.subplots(nrows=3, ncols=4, sharex=\"col\", sharey=True)\n",
    "size = fig.get_size_inches()\n",
    "for fig_row, phenotype in enumerate((\"tremor\", \"bradykinesia\", \"dyskinesia\")):\n",
    "    results = pd.read_csv(f\"../models/inceptiontime/hyperparameter_tuning/{phenotype}/GENEActiv_train-val/results.csv\")\n",
    "    mean_results = pd.read_csv(f\"../models/inceptiontime/hyperparameter_tuning/{phenotype}/GENEActiv_train-val/meanresults.csv\")\n",
    "    for fig_col, x in enumerate((\"window_length\", \"kernel_size\", \"nb_filters\", \"depth\")):\n",
    "        ax = axs[fig_row, fig_col]\n",
    "        if phenotype == \"tremor\":\n",
    "            sns.scatterplot(data=results.dropna(), x=x, y=\"test_mAP\", ax=ax, s=20)\n",
    "            sns.regplot(data=mean_results.dropna(), x=x, y=\"test_mAP\", ax=ax, color=\"C1\", scatter_kws={\"s\": 20}, ci=0)\n",
    "            rho, p = spearmanr(results.dropna()[x], results.dropna()[\"test_mAP\"])\n",
    "            text = ax.text(0.9, 0.1, rf\"$r_s = {rho:.2f}$\", transform=ax.transAxes, verticalalignment=\"bottom\", horizontalalignment=\"right\", bbox=dict(facecolor='white', alpha=0.5, edgecolor=\"none\", pad=3))\n",
    "            ax.set_xlabel(LABELS[x])\n",
    "            ax.set_ylabel(\"Tremor mAP\")\n",
    "        else:\n",
    "            sns.scatterplot(data=results.dropna(), x=x, y=\"test_average_precision\", ax=ax, s=20)\n",
    "            sns.regplot(data=mean_results.dropna(), x=x, y=\"test_average_precision\", ax=ax, color=\"C1\", scatter_kws={\"s\": 20}, ci=0)\n",
    "            rho, p = spearmanr(results.dropna()[x], results.dropna()[\"test_average_precision\"])\n",
    "            pos = (0.9, 0.7) if phenotype == \"dyskinesia\" else (0.9, 0.1)\n",
    "            text = ax.text(pos[0], pos[1], rf\"$r_s = {rho:.2f}$\", transform=ax.transAxes, verticalalignment=\"bottom\", horizontalalignment=\"right\", bbox=dict(facecolor='white', alpha=0.5, edgecolor=\"none\", pad=3))\n",
    "            ax.set_xlabel(LABELS[x])\n",
    "            ax.set_ylabel(f\"{phenotype.title()} AP\")\n",
    "fig.set_size_inches((size[0] * 2, size[1] * 1.3))\n",
    "fig.legend(labels=[\"_nolegend_\", \"all cross-validation folds\", \"cross-validation mean\"], loc='upper center', ncol=2, bbox_to_anchor=(0.5, 1.1))\n",
    "fig.savefig(\"../reports/figures/hypertuningscatter.pgf\")"
   ]
  },
  {
   "cell_type": "code",
   "execution_count": null,
   "metadata": {},
   "outputs": [],
   "source": [
    "if PHENOTYPE == \"tremor\":\n",
    "    for x in (\"depth\", \"kernel_size\", \"nb_filters\"):\n",
    "        fig, ax = plt.subplots()\n",
    "        ax.set_xlabel(x)\n",
    "        contour = ax.tricontourf(results[x], results[\"window_length\"], results[\"test_mAP\"])\n",
    "        fig.colorbar(contour)\n",
    "        fig2, ax2 = plt.subplots()\n",
    "        g = sns.scatterplot(data=results, x=x, y=\"window_length\", hue=\"test_mAP\", ax=ax2)\n",
    "        g.figure.savefig(FIGSAVEPATH / f\"{x}-window_length-mAP.pgf\")"
   ]
  },
  {
   "cell_type": "code",
   "execution_count": null,
   "metadata": {},
   "outputs": [],
   "source": [
    "if PHENOTYPE == \"tremor\":\n",
    "    import itertools\n",
    "    for x, y, z in itertools.combinations((\"depth\", \"kernel_size\", \"nb_filters\", \"window_length\"), 3):\n",
    "        fig = plt.figure()\n",
    "        fig.set_size_inches(10, 10)\n",
    "        ax = fig.add_subplot(projection='3d')\n",
    "        ax.set_xlabel(x)\n",
    "        ax.set_ylabel(y)\n",
    "        ax.set_zlabel(z)\n",
    "        print(x, y, z)\n",
    "        ax.scatter(xs=results[x], ys=results[y], zs=results[z], c=results[\"test_mAP\"])\n",
    "        #ax.plot_trisurf(results[x], results[y], results[z])"
   ]
  },
  {
   "cell_type": "code",
   "execution_count": null,
   "metadata": {},
   "outputs": [],
   "source": [
    "if PHENOTYPE == \"tremor\":\n",
    "    fig = plt.figure()\n",
    "    fig.set_size_inches(10, 10)\n",
    "    ax = fig.add_subplot(projection=\"3d\")\n",
    "    ax.scatter(xs=mean_results[\"depth\"], ys=mean_results[\"window_length\"], zs=mean_results[\"test_mAP\"])"
   ]
  },
  {
   "cell_type": "code",
   "execution_count": null,
   "metadata": {},
   "outputs": [],
   "source": [
    "from scipy.stats import spearmanr\n",
    "plt.style.use([\"science\", \"../src/visualization/main.mplstyle\", \"../src/visualization/smallfigures.mplstyle\"])\n",
    "\n",
    "results2 = results.copy()\n",
    "results2.columns = results2.columns.str.replace(\"test_\", \"\")\n",
    "results2.columns = results2.columns.str.replace(\"_\", \" \")\n",
    "results2.columns = results2.columns.str.title()\n",
    "results2.columns = results2.columns.str.replace(\"Map\", \"mAP\")\n",
    "results2.columns = results2.columns.str.replace(\"Average Precision\", \"AP\")\n",
    "x = \"mAP\" if PHENOTYPE == \"tremor\" else \"AP\"\n",
    "ax = sns.regplot(x=x, y=\"Balanced Accuracy\", data=results2.dropna())\n",
    "rho, p = spearmanr(results2.dropna()[x], results2.dropna()[\"Balanced Accuracy\"])\n",
    "text = ax.text(0.05, 0.8, rf\"$r_s = {rho:.2f}$\", transform=ax.transAxes, verticalalignment=\"bottom\", horizontalalignment=\"left\")\n",
    "ax.figure.savefig(FIGSAVEPATH / \"baovermAP.pgf\", bbox_inches=\"tight\")"
   ]
  }
 ],
 "metadata": {
  "celltoolbar": "Tags",
  "interpreter": {
   "hash": "49acc541669fea361353a1a92ad2568d48978f6e1f7cb64a193d359b69e61e3b"
  },
  "kernelspec": {
   "display_name": "Python 3",
   "language": "python",
   "name": "python3"
  },
  "language_info": {
   "codemirror_mode": {
    "name": "ipython",
    "version": 3
   },
   "file_extension": ".py",
   "mimetype": "text/x-python",
   "name": "python",
   "nbconvert_exporter": "python",
   "pygments_lexer": "ipython3",
   "version": "3.6.9"
  }
 },
 "nbformat": 4,
 "nbformat_minor": 2
}
